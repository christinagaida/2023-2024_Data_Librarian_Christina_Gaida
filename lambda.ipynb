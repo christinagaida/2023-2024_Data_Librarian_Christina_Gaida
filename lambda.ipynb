{
 "cells": [
  {
   "cell_type": "code",
   "execution_count": 1,
   "id": "bbca78dd",
   "metadata": {},
   "outputs": [],
   "source": [
    "#lambda erzeugt anonyme Funktionen"
   ]
  },
  {
   "cell_type": "code",
   "execution_count": 2,
   "id": "107e5b59",
   "metadata": {},
   "outputs": [],
   "source": [
    "def my_upper(string):\n",
    "    return string.upper()\n",
    "# selber Funktion schreiben"
   ]
  },
  {
   "cell_type": "code",
   "execution_count": 3,
   "id": "e1d9ea3f",
   "metadata": {},
   "outputs": [
    {
     "data": {
      "text/plain": [
       "'blub'"
      ]
     },
     "execution_count": 3,
     "metadata": {},
     "output_type": "execute_result"
    }
   ],
   "source": [
    "\"blub\""
   ]
  },
  {
   "cell_type": "code",
   "execution_count": 4,
   "id": "c3a8f867",
   "metadata": {},
   "outputs": [
    {
     "data": {
      "text/plain": [
       "'BLUB'"
      ]
     },
     "execution_count": 4,
     "metadata": {},
     "output_type": "execute_result"
    }
   ],
   "source": [
    "my_upper(\"blub\")"
   ]
  },
  {
   "cell_type": "code",
   "execution_count": 5,
   "id": "6a4323f8",
   "metadata": {},
   "outputs": [],
   "source": [
    "# doi_df_first_author_2 [\"given_name\"] = doi_df_first_author_2[\"first_author\"].apply(\n",
    "#    lambda author: \" \". join(author. split(\" \")[1:]))\n",
    "\n",
    "# lambda dient dazu seine funktion anonym zu halten und diese, anders als in 2 selbst zu bennennen"
   ]
  },
  {
   "cell_type": "code",
   "execution_count": null,
   "id": "79eb5031",
   "metadata": {},
   "outputs": [],
   "source": [
    "def clean_string(author_string):\n",
    "    return \" \". join(author. split(\" \")[1:])\n",
    "\n",
    "doi_df_first_author_2[\"first_author\"].apply(clean_string)\n",
    "    "
   ]
  }
 ],
 "metadata": {
  "kernelspec": {
   "display_name": "Python 3 (ipykernel)",
   "language": "python",
   "name": "python3"
  },
  "language_info": {
   "codemirror_mode": {
    "name": "ipython",
    "version": 3
   },
   "file_extension": ".py",
   "mimetype": "text/x-python",
   "name": "python",
   "nbconvert_exporter": "python",
   "pygments_lexer": "ipython3",
   "version": "3.11.5"
  }
 },
 "nbformat": 4,
 "nbformat_minor": 5
}
