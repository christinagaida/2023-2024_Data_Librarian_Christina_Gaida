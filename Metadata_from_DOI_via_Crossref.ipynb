{
 "cells": [
  {
   "cell_type": "code",
   "execution_count": 1,
   "id": "4e03c8e3",
   "metadata": {},
   "outputs": [],
   "source": [
    "import urllib.request\n",
    "import json"
   ]
  },
  {
   "cell_type": "code",
   "execution_count": 2,
   "id": "d422132c",
   "metadata": {},
   "outputs": [],
   "source": [
    "base_url = \"https://api.crossref.org/works/\"\n",
    "doi = \"10.1371/journal.pcbi.1004668\"\n",
    "full_url = base_url + doi "
   ]
  },
  {
   "cell_type": "code",
   "execution_count": 3,
   "id": "16cf3226",
   "metadata": {},
   "outputs": [],
   "source": [
    "doi_json_dataset = urllib.request.urlopen(full_url).read()"
   ]
  },
  {
   "cell_type": "code",
   "execution_count": 4,
   "id": "0559c4c3",
   "metadata": {},
   "outputs": [],
   "source": [
    "doi_dataset = json.loads(doi_json_dataset)"
   ]
  },
  {
   "cell_type": "code",
   "execution_count": 5,
   "id": "ccbf2be8",
   "metadata": {},
   "outputs": [
    {
     "data": {
      "text/plain": [
       "{'status': 'ok',\n",
       " 'message-type': 'work',\n",
       " 'message-version': '1.0.0',\n",
       " 'message': {'indexed': {'date-parts': [[2023, 10, 23]],\n",
       "   'date-time': '2023-10-23T12:05:12Z',\n",
       "   'timestamp': 1698062712511},\n",
       "  'reference-count': 6,\n",
       "  'publisher': 'Public Library of Science (PLoS)',\n",
       "  'issue': '1',\n",
       "  'license': [{'start': {'date-parts': [[2016, 1, 19]],\n",
       "     'date-time': '2016-01-19T00:00:00Z',\n",
       "     'timestamp': 1453161600000},\n",
       "    'content-version': 'vor',\n",
       "    'delay-in-days': 0,\n",
       "    'URL': 'http://creativecommons.org/licenses/by/4.0/'}],\n",
       "  'content-domain': {'domain': ['www.ploscompbiol.org'],\n",
       "   'crossmark-restriction': False},\n",
       "  'short-container-title': ['PLoS Comput Biol'],\n",
       "  'DOI': '10.1371/journal.pcbi.1004668',\n",
       "  'type': 'journal-article',\n",
       "  'created': {'date-parts': [[2016, 1, 19]],\n",
       "   'date-time': '2016-01-19T21:35:29Z',\n",
       "   'timestamp': 1453239329000},\n",
       "  'page': 'e1004668',\n",
       "  'update-policy': 'http://dx.doi.org/10.1371/journal.pcbi.corrections_policy',\n",
       "  'source': 'Crossref',\n",
       "  'is-referenced-by-count': 86,\n",
       "  'title': ['A Quick Introduction to Version Control with Git and GitHub'],\n",
       "  'prefix': '10.1371',\n",
       "  'volume': '12',\n",
       "  'author': [{'given': 'John D.',\n",
       "    'family': 'Blischak',\n",
       "    'sequence': 'first',\n",
       "    'affiliation': []},\n",
       "   {'given': 'Emily R.',\n",
       "    'family': 'Davenport',\n",
       "    'sequence': 'additional',\n",
       "    'affiliation': []},\n",
       "   {'given': 'Greg',\n",
       "    'family': 'Wilson',\n",
       "    'sequence': 'additional',\n",
       "    'affiliation': []}],\n",
       "  'member': '340',\n",
       "  'published-online': {'date-parts': [[2016, 1, 19]]},\n",
       "  'reference': [{'key': 'ref1',\n",
       "    'doi-asserted-by': 'crossref',\n",
       "    'first-page': '7',\n",
       "    'DOI': '10.1186/1751-0473-8-7',\n",
       "    'article-title': 'Git can facilitate greater reproducibility and increased transparency in science',\n",
       "    'volume': '8',\n",
       "    'author': 'K Ram',\n",
       "    'year': '2013',\n",
       "    'journal-title': 'Source Code Biol Med'},\n",
       "   {'key': 'ref2',\n",
       "    'doi-asserted-by': 'crossref',\n",
       "    'first-page': 'e1001745',\n",
       "    'DOI': '10.1371/journal.pbio.1001745',\n",
       "    'article-title': 'Best practices for scientific computing',\n",
       "    'volume': '12',\n",
       "    'author': 'G Wilson',\n",
       "    'year': '2014',\n",
       "    'journal-title': 'PLoS Biol'},\n",
       "   {'key': 'ref3',\n",
       "    'doi-asserted-by': 'crossref',\n",
       "    'first-page': '57',\n",
       "    'DOI': '10.1038/nature11247',\n",
       "    'article-title': 'An integrated encyclopedia of DNA elements in the human genome',\n",
       "    'volume': '489',\n",
       "    'author': 'B Bernstein',\n",
       "    'year': '2012',\n",
       "    'journal-title': 'Nature'},\n",
       "   {'key': 'ref4',\n",
       "    'doi-asserted-by': 'crossref',\n",
       "    'first-page': 'e1003326',\n",
       "    'DOI': '10.1371/journal.pcbi.1003326',\n",
       "    'article-title': 'Practical guidelines for the comprehensive analysis of ChIP-seq data',\n",
       "    'volume': '9',\n",
       "    'author': 'T Bailey',\n",
       "    'year': '2013',\n",
       "    'journal-title': 'PLoS Comput Biol'},\n",
       "   {'key': 'ref5',\n",
       "    'doi-asserted-by': 'crossref',\n",
       "    'first-page': 'e1000424',\n",
       "    'DOI': '10.1371/journal.pcbi.1000424',\n",
       "    'article-title': 'A quick guide to organizing computational biology projects',\n",
       "    'volume': '5',\n",
       "    'author': 'W Noble',\n",
       "    'year': '2009',\n",
       "    'journal-title': 'PLoS Comput Biol'},\n",
       "   {'key': 'ref6',\n",
       "    'doi-asserted-by': 'crossref',\n",
       "    'first-page': 'e1002598',\n",
       "    'DOI': '10.1371/journal.pcbi.1002598',\n",
       "    'article-title': 'A quick guide to software licensing for the scientist-programmer',\n",
       "    'volume': '8',\n",
       "    'author': 'A Morin',\n",
       "    'year': '2012',\n",
       "    'journal-title': 'PLoS Comput Biol'}],\n",
       "  'container-title': ['PLOS Computational Biology'],\n",
       "  'original-title': [],\n",
       "  'language': 'en',\n",
       "  'link': [{'URL': 'http://dx.plos.org/10.1371/journal.pcbi.1004668',\n",
       "    'content-type': 'unspecified',\n",
       "    'content-version': 'vor',\n",
       "    'intended-application': 'similarity-checking'}],\n",
       "  'deposited': {'date-parts': [[2020, 5, 8]],\n",
       "   'date-time': '2020-05-08T21:36:54Z',\n",
       "   'timestamp': 1588973814000},\n",
       "  'score': 1,\n",
       "  'resource': {'primary': {'URL': 'https://dx.plos.org/10.1371/journal.pcbi.1004668'}},\n",
       "  'subtitle': [],\n",
       "  'editor': [{'given': 'Francis',\n",
       "    'family': 'Ouellette',\n",
       "    'sequence': 'first',\n",
       "    'affiliation': []}],\n",
       "  'short-title': [],\n",
       "  'issued': {'date-parts': [[2016, 1, 19]]},\n",
       "  'references-count': 6,\n",
       "  'journal-issue': {'issue': '1',\n",
       "   'published-online': {'date-parts': [[2016, 1, 19]]}},\n",
       "  'URL': 'http://dx.doi.org/10.1371/journal.pcbi.1004668',\n",
       "  'relation': {},\n",
       "  'ISSN': ['1553-7358'],\n",
       "  'issn-type': [{'value': '1553-7358', 'type': 'electronic'}],\n",
       "  'subject': ['Computational Theory and Mathematics',\n",
       "   'Cellular and Molecular Neuroscience',\n",
       "   'Genetics',\n",
       "   'Molecular Biology',\n",
       "   'Ecology',\n",
       "   'Modeling and Simulation',\n",
       "   'Ecology, Evolution, Behavior and Systematics'],\n",
       "  'published': {'date-parts': [[2016, 1, 19]]}}}"
      ]
     },
     "execution_count": 5,
     "metadata": {},
     "output_type": "execute_result"
    }
   ],
   "source": [
    "doi_dataset"
   ]
  },
  {
   "cell_type": "markdown",
   "id": "1f10fd8e",
   "metadata": {},
   "source": [
    "## Aufgabe\n",
    "\n",
    "Der Titel und der Journalname soll gefiltert werden"
   ]
  },
  {
   "cell_type": "code",
   "execution_count": 6,
   "id": "6cec7cb3",
   "metadata": {},
   "outputs": [
    {
     "data": {
      "text/plain": [
       "dict_keys(['status', 'message-type', 'message-version', 'message'])"
      ]
     },
     "execution_count": 6,
     "metadata": {},
     "output_type": "execute_result"
    }
   ],
   "source": [
    "doi_dataset.keys()"
   ]
  },
  {
   "cell_type": "code",
   "execution_count": 7,
   "id": "d02cd4ae",
   "metadata": {},
   "outputs": [
    {
     "data": {
      "text/plain": [
       "dict_keys(['indexed', 'reference-count', 'publisher', 'issue', 'license', 'content-domain', 'short-container-title', 'DOI', 'type', 'created', 'page', 'update-policy', 'source', 'is-referenced-by-count', 'title', 'prefix', 'volume', 'author', 'member', 'published-online', 'reference', 'container-title', 'original-title', 'language', 'link', 'deposited', 'score', 'resource', 'subtitle', 'editor', 'short-title', 'issued', 'references-count', 'journal-issue', 'URL', 'relation', 'ISSN', 'issn-type', 'subject', 'published'])"
      ]
     },
     "execution_count": 7,
     "metadata": {},
     "output_type": "execute_result"
    }
   ],
   "source": [
    "doi_dataset[\"message\"].keys()"
   ]
  },
  {
   "cell_type": "code",
   "execution_count": 24,
   "id": "92bd4a4c",
   "metadata": {},
   "outputs": [
    {
     "name": "stdout",
     "output_type": "stream",
     "text": [
      "[{'key': 'ref1', 'doi-asserted-by': 'crossref', 'first-page': '7', 'DOI': '10.1186/1751-0473-8-7', 'article-title': 'Git can facilitate greater reproducibility and increased transparency in science', 'volume': '8', 'author': 'K Ram', 'year': '2013', 'journal-title': 'Source Code Biol Med'}, {'key': 'ref2', 'doi-asserted-by': 'crossref', 'first-page': 'e1001745', 'DOI': '10.1371/journal.pbio.1001745', 'article-title': 'Best practices for scientific computing', 'volume': '12', 'author': 'G Wilson', 'year': '2014', 'journal-title': 'PLoS Biol'}, {'key': 'ref3', 'doi-asserted-by': 'crossref', 'first-page': '57', 'DOI': '10.1038/nature11247', 'article-title': 'An integrated encyclopedia of DNA elements in the human genome', 'volume': '489', 'author': 'B Bernstein', 'year': '2012', 'journal-title': 'Nature'}, {'key': 'ref4', 'doi-asserted-by': 'crossref', 'first-page': 'e1003326', 'DOI': '10.1371/journal.pcbi.1003326', 'article-title': 'Practical guidelines for the comprehensive analysis of ChIP-seq data', 'volume': '9', 'author': 'T Bailey', 'year': '2013', 'journal-title': 'PLoS Comput Biol'}, {'key': 'ref5', 'doi-asserted-by': 'crossref', 'first-page': 'e1000424', 'DOI': '10.1371/journal.pcbi.1000424', 'article-title': 'A quick guide to organizing computational biology projects', 'volume': '5', 'author': 'W Noble', 'year': '2009', 'journal-title': 'PLoS Comput Biol'}, {'key': 'ref6', 'doi-asserted-by': 'crossref', 'first-page': 'e1002598', 'DOI': '10.1371/journal.pcbi.1002598', 'article-title': 'A quick guide to software licensing for the scientist-programmer', 'volume': '8', 'author': 'A Morin', 'year': '2012', 'journal-title': 'PLoS Comput Biol'}]\n"
     ]
    }
   ],
   "source": [
    "print(doi_dataset[\"message\"][\"reference\"])"
   ]
  },
  {
   "cell_type": "code",
   "execution_count": 36,
   "id": "36106df5",
   "metadata": {},
   "outputs": [
    {
     "data": {
      "text/plain": [
       "[{'key': 'ref1',\n",
       "  'doi-asserted-by': 'crossref',\n",
       "  'first-page': '7',\n",
       "  'DOI': '10.1186/1751-0473-8-7',\n",
       "  'article-title': 'Git can facilitate greater reproducibility and increased transparency in science',\n",
       "  'volume': '8',\n",
       "  'author': 'K Ram',\n",
       "  'year': '2013',\n",
       "  'journal-title': 'Source Code Biol Med'},\n",
       " {'key': 'ref2',\n",
       "  'doi-asserted-by': 'crossref',\n",
       "  'first-page': 'e1001745',\n",
       "  'DOI': '10.1371/journal.pbio.1001745',\n",
       "  'article-title': 'Best practices for scientific computing',\n",
       "  'volume': '12',\n",
       "  'author': 'G Wilson',\n",
       "  'year': '2014',\n",
       "  'journal-title': 'PLoS Biol'},\n",
       " {'key': 'ref3',\n",
       "  'doi-asserted-by': 'crossref',\n",
       "  'first-page': '57',\n",
       "  'DOI': '10.1038/nature11247',\n",
       "  'article-title': 'An integrated encyclopedia of DNA elements in the human genome',\n",
       "  'volume': '489',\n",
       "  'author': 'B Bernstein',\n",
       "  'year': '2012',\n",
       "  'journal-title': 'Nature'},\n",
       " {'key': 'ref4',\n",
       "  'doi-asserted-by': 'crossref',\n",
       "  'first-page': 'e1003326',\n",
       "  'DOI': '10.1371/journal.pcbi.1003326',\n",
       "  'article-title': 'Practical guidelines for the comprehensive analysis of ChIP-seq data',\n",
       "  'volume': '9',\n",
       "  'author': 'T Bailey',\n",
       "  'year': '2013',\n",
       "  'journal-title': 'PLoS Comput Biol'},\n",
       " {'key': 'ref5',\n",
       "  'doi-asserted-by': 'crossref',\n",
       "  'first-page': 'e1000424',\n",
       "  'DOI': '10.1371/journal.pcbi.1000424',\n",
       "  'article-title': 'A quick guide to organizing computational biology projects',\n",
       "  'volume': '5',\n",
       "  'author': 'W Noble',\n",
       "  'year': '2009',\n",
       "  'journal-title': 'PLoS Comput Biol'},\n",
       " {'key': 'ref6',\n",
       "  'doi-asserted-by': 'crossref',\n",
       "  'first-page': 'e1002598',\n",
       "  'DOI': '10.1371/journal.pcbi.1002598',\n",
       "  'article-title': 'A quick guide to software licensing for the scientist-programmer',\n",
       "  'volume': '8',\n",
       "  'author': 'A Morin',\n",
       "  'year': '2012',\n",
       "  'journal-title': 'PLoS Comput Biol'}]"
      ]
     },
     "execution_count": 36,
     "metadata": {},
     "output_type": "execute_result"
    }
   ],
   "source": [
    "doi_dataset[\"message\"][\"reference\"]"
   ]
  },
  {
   "cell_type": "code",
   "execution_count": 39,
   "id": "d7a2f820",
   "metadata": {},
   "outputs": [
    {
     "data": {
      "text/plain": [
       "{'key': 'ref1',\n",
       " 'doi-asserted-by': 'crossref',\n",
       " 'first-page': '7',\n",
       " 'DOI': '10.1186/1751-0473-8-7',\n",
       " 'article-title': 'Git can facilitate greater reproducibility and increased transparency in science',\n",
       " 'volume': '8',\n",
       " 'author': 'K Ram',\n",
       " 'year': '2013',\n",
       " 'journal-title': 'Source Code Biol Med'}"
      ]
     },
     "execution_count": 39,
     "metadata": {},
     "output_type": "execute_result"
    }
   ],
   "source": [
    "doi_dataset[\"message\"][\"reference\"][0]"
   ]
  },
  {
   "cell_type": "code",
   "execution_count": 37,
   "id": "bac3c244",
   "metadata": {},
   "outputs": [
    {
     "data": {
      "text/plain": [
       "'Git can facilitate greater reproducibility and increased transparency in science'"
      ]
     },
     "execution_count": 37,
     "metadata": {},
     "output_type": "execute_result"
    }
   ],
   "source": [
    "doi_dataset[\"message\"][\"reference\"][0][\"article-title\"]"
   ]
  },
  {
   "cell_type": "code",
   "execution_count": 40,
   "id": "9c343073",
   "metadata": {},
   "outputs": [
    {
     "name": "stdout",
     "output_type": "stream",
     "text": [
      "Git can facilitate greater reproducibility and increased transparency in science\n"
     ]
    }
   ],
   "source": [
    "print(doi_dataset[\"message\"][\"reference\"][0][\"article-title\"])"
   ]
  },
  {
   "cell_type": "markdown",
   "id": "24e6ca10",
   "metadata": {},
   "source": [
    "## Erklärung, warum Einzelschritte noch drinnen sind:\n",
    "\n",
    "Ich musste mich zunächst an die herangehensweise herantasten, bevor ich die Schleife bilden konnte. Es war kompliziert, sich vom Anzeigen der keys zum richtigen Befahl zu finden - deswegen lasse ich den Weg auch drinne :)"
   ]
  },
  {
   "cell_type": "code",
   "execution_count": 46,
   "id": "efcba366",
   "metadata": {},
   "outputs": [
    {
     "name": "stdout",
     "output_type": "stream",
     "text": [
      "Git can facilitate greater reproducibility and increased transparency in science\n",
      "Source Code Biol Med\n",
      "------\n",
      "Best practices for scientific computing\n",
      "PLoS Biol\n",
      "------\n",
      "An integrated encyclopedia of DNA elements in the human genome\n",
      "Nature\n",
      "------\n",
      "Practical guidelines for the comprehensive analysis of ChIP-seq data\n",
      "PLoS Comput Biol\n",
      "------\n",
      "A quick guide to organizing computational biology projects\n",
      "PLoS Comput Biol\n",
      "------\n",
      "A quick guide to software licensing for the scientist-programmer\n",
      "PLoS Comput Biol\n",
      "------\n"
     ]
    }
   ],
   "source": [
    "for all_title in doi_dataset[\"message\"][\"reference\"]:\n",
    "    full_url = base_url + doi\n",
    "    doi_json_dataset = urllib.request.urlopen(full_url).read()\n",
    "    doi_dataset = json.loads(doi_json_dataset)\n",
    "    print(all_title[\"article-title\"])\n",
    "    print(all_title[\"journal-title\"])\n",
    "    print(\"------\")"
   ]
  },
  {
   "cell_type": "code",
   "execution_count": null,
   "id": "2e0847ba",
   "metadata": {},
   "outputs": [],
   "source": []
  }
 ],
 "metadata": {
  "kernelspec": {
   "display_name": "Python 3 (ipykernel)",
   "language": "python",
   "name": "python3"
  },
  "language_info": {
   "codemirror_mode": {
    "name": "ipython",
    "version": 3
   },
   "file_extension": ".py",
   "mimetype": "text/x-python",
   "name": "python",
   "nbconvert_exporter": "python",
   "pygments_lexer": "ipython3",
   "version": "3.11.5"
  }
 },
 "nbformat": 4,
 "nbformat_minor": 5
}
