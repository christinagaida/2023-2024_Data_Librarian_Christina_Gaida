{
 "cells": [
  {
   "cell_type": "code",
   "execution_count": 2,
   "id": "9b156fac-1bea-4e8b-913c-7dfc27cc7f60",
   "metadata": {},
   "outputs": [
    {
     "name": "stderr",
     "output_type": "stream",
     "text": [
      "2024-01-29 13:02:40.049 \n",
      "  \u001b[33m\u001b[1mWarning:\u001b[0m to view this Streamlit app on a browser, run it with the following\n",
      "  command:\n",
      "\n",
      "    streamlit run /home/christina/anaconda3/lib/python3.8/site-packages/ipykernel_launcher.py [ARGUMENTS]\n"
     ]
    },
    {
     "data": {
      "text/plain": [
       "False"
      ]
     },
     "execution_count": 2,
     "metadata": {},
     "output_type": "execute_result"
    }
   ],
   "source": [
    "#learn more about streamlit: https://docs.streamlit.io/\n",
    "\n",
    "import streamlit as st\n",
    "import pyterrier as pt\n",
    "import pickle\n",
    "\n",
    "if not pt.started():\n",
    "    pt.init()\n",
    "\n",
    "def init():\n",
    "\n",
    "    index = pt.IndexFactory.of(\"./index_mult/data.properties\")\n",
    "    st.session_state[\"engine\"] = pt.BatchRetrieve(index, wmodel=\"TF_IDF\")\n",
    "    st.session_state[\"data\"] = pickle.load(open(\"./results.pkl\", \"rb\"))\n",
    "\n",
    "def search(query):\n",
    "\n",
    "    res = st.session_state[\"engine\"].search(query)\n",
    "    fields_to_show = [\"docno\", \"text\", \"tags\", \"description\", \"authors\", \"year_number\", \"title\"]\n",
    "\n",
    "    for _, row in res.iterrows():\n",
    "        score = round(row['score'], 2)\n",
    "        entry = st.session_state[\"data\"][st.session_state[\"data\"]['docno'] == row['docno']].iloc[0]\n",
    "\n",
    "        for field in fields_to_show:\n",
    "            if field == \"text\":\n",
    "                st.title(entry[field])\n",
    "            else:\n",
    "                st.write(f\"{field.capitalize()}: \\t {entry[field]}\")\n",
    "\n",
    "        st.write(f\"Score: {score}\")\n",
    "        st.divider()\n",
    "\n",
    "\n",
    "if not \"engine\" in st.session_state:\n",
    "    init()\n",
    "\n",
    "query = st.sidebar.text_input(\"Query\")\n",
    "st.sidebar.button(\"Search\", on_click=search, args=(query,))"
   ]
  },
  {
   "cell_type": "code",
   "execution_count": null,
   "id": "49700c17-ba52-4598-91d8-37f4cb648974",
   "metadata": {},
   "outputs": [],
   "source": []
  }
 ],
 "metadata": {
  "kernelspec": {
   "display_name": "Python 3 (ipykernel)",
   "language": "python",
   "name": "python3"
  },
  "language_info": {
   "codemirror_mode": {
    "name": "ipython",
    "version": 3
   },
   "file_extension": ".py",
   "mimetype": "text/x-python",
   "name": "python",
   "nbconvert_exporter": "python",
   "pygments_lexer": "ipython3",
   "version": "3.8.18"
  }
 },
 "nbformat": 4,
 "nbformat_minor": 5
}
