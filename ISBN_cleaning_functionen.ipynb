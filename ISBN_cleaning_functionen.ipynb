{
 "cells": [
  {
   "cell_type": "code",
   "execution_count": 1,
   "id": "49461972",
   "metadata": {},
   "outputs": [],
   "source": [
    "# unbereinigte ISBNs\n",
    "dirty_isbns = [\n",
    "    \" ISBN 978-3-518-58773-7 \", \n",
    "    \"ISBN___978-1491946008 \",\n",
    "    \"ISBN 978-1593276034\"]"
   ]
  },
  {
   "cell_type": "code",
   "execution_count": 2,
   "id": "27920616",
   "metadata": {},
   "outputs": [],
   "source": [
    "def clean_isbn():\n",
    "    isbn = \" ISBN 978-3-518-58773-7 \" #definition der isbn\n",
    "    print(isbn) # gib mit die aus\n",
    "#Definiert eigene Funktionen    "
   ]
  },
  {
   "cell_type": "code",
   "execution_count": 5,
   "id": "84854638",
   "metadata": {},
   "outputs": [
    {
     "name": "stdout",
     "output_type": "stream",
     "text": [
      " ISBN 978-3-518-58773-7 \n"
     ]
    }
   ],
   "source": [
    "clean_isbn()"
   ]
  },
  {
   "cell_type": "code",
   "execution_count": 9,
   "id": "0bd5ac6d",
   "metadata": {},
   "outputs": [
    {
     "name": "stdout",
     "output_type": "stream",
     "text": [
      "978-3-518-58773-7\n"
     ]
    }
   ],
   "source": [
    "def clean_isbn():\n",
    "    isbn = \" ISBN 978-3-518-58773-7 \" #definition der isbn + weitere definition\n",
    "    isbn = isbn.replace(\"ISBN\", \"\") #entfernt das ISBN\n",
    "    isbn = isbn.strip() #Leerzeichen wurde entfernt\n",
    "    print(isbn) # gib mit die aus\n",
    "clean_isbn()"
   ]
  },
  {
   "cell_type": "code",
   "execution_count": 10,
   "id": "6b32a93b",
   "metadata": {},
   "outputs": [
    {
     "data": {
      "text/plain": [
       "'978-3-518-58773-7'"
      ]
     },
     "execution_count": 10,
     "metadata": {},
     "output_type": "execute_result"
    }
   ],
   "source": [
    "def clean_isbn():\n",
    "    isbn = \" ISBN 978-3-518-58773-7 \" #definition der isbn + weitere definition\n",
    "    isbn = isbn.replace(\"ISBN\", \"\") #entfernt das ISBN\n",
    "    isbn = isbn.strip() #Leerzeichen wur%de entfernt\n",
    "    return(isbn) # hier kann man die variable weiterbenutzen - nur mit print() geht das nicht\n",
    "clean_isbn()"
   ]
  },
  {
   "cell_type": "code",
   "execution_count": 18,
   "id": "a025eaa6",
   "metadata": {},
   "outputs": [],
   "source": [
    "def clean_isbn(isbn):\n",
    "    isbn = isbn.replace(\"ISBN\", \"\") #entfernt das ISBN\n",
    "    isbn = isbn. replace(\"_\", \"\")\n",
    "    isbn = isbn.strip() #Leerzeichen wurde entfernt\n",
    "    return(isbn) # hier kann man die variable weiterbenutzen - nur mit print() geht das nicht"
   ]
  },
  {
   "cell_type": "code",
   "execution_count": 19,
   "id": "03aea516",
   "metadata": {},
   "outputs": [],
   "source": [
    "cleaned_isbn = clean_isbn(\" ISBN 978-3-518-58773-7 \")"
   ]
  },
  {
   "cell_type": "code",
   "execution_count": 20,
   "id": "b744c274",
   "metadata": {},
   "outputs": [
    {
     "name": "stdout",
     "output_type": "stream",
     "text": [
      "978-3-518-58773-7\n"
     ]
    }
   ],
   "source": [
    "print(cleaned_isbn)"
   ]
  },
  {
   "cell_type": "code",
   "execution_count": 21,
   "id": "ba3963f4",
   "metadata": {},
   "outputs": [
    {
     "name": "stdout",
     "output_type": "stream",
     "text": [
      "978-3-518-58773-7\n",
      "978-1491946008\n",
      "978-1593276034\n"
     ]
    }
   ],
   "source": [
    "for isbn in dirty_isbns: # nach in immer die gemeinte Liste\n",
    "    cleaned_isbn = clean_isbn(isbn)\n",
    "    print(cleaned_isbn)\n",
    "    "
   ]
  },
  {
   "cell_type": "markdown",
   "id": "1660b373",
   "metadata": {},
   "source": [
    "## Infos"
   ]
  },
  {
   "cell_type": "code",
   "execution_count": 23,
   "id": "36b0f9da",
   "metadata": {},
   "outputs": [
    {
     "name": "stdout",
     "output_type": "stream",
     "text": [
      "clean_isbn\t cleaned_isbn\t dirty_isbns\t isbn\t \n"
     ]
    }
   ],
   "source": [
    "%who\n",
    "# alle variablen die definiert wurden"
   ]
  },
  {
   "cell_type": "code",
   "execution_count": 25,
   "id": "da758010",
   "metadata": {},
   "outputs": [
    {
     "name": "stdout",
     "output_type": "stream",
     "text": [
      "Variable       Type        Data/Info\n",
      "------------------------------------\n",
      "clean_isbn     function    <function clean_isbn at 0x7f3a5e3d3240>\n",
      "cleaned_isbn   str         978-1593276034\n",
      "dirty_isbns    list        n=3\n",
      "isbn           str         ISBN 978-1593276034\n"
     ]
    }
   ],
   "source": [
    "%whos\n",
    "# alle variablen die definiert wurden mit Informationen"
   ]
  },
  {
   "cell_type": "code",
   "execution_count": 27,
   "id": "4a51ac09",
   "metadata": {},
   "outputs": [
    {
     "name": "stdout",
     "output_type": "stream",
     "text": [
      "Requirement already satisfied: pandas in /home/christina/anaconda3/lib/python3.11/site-packages (2.0.3)\n",
      "Requirement already satisfied: python-dateutil>=2.8.2 in /home/christina/anaconda3/lib/python3.11/site-packages (from pandas) (2.8.2)\n",
      "Requirement already satisfied: pytz>=2020.1 in /home/christina/anaconda3/lib/python3.11/site-packages (from pandas) (2023.3.post1)\n",
      "Requirement already satisfied: tzdata>=2022.1 in /home/christina/anaconda3/lib/python3.11/site-packages (from pandas) (2023.3)\n",
      "Requirement already satisfied: numpy>=1.21.0 in /home/christina/anaconda3/lib/python3.11/site-packages (from pandas) (1.24.3)\n",
      "Requirement already satisfied: six>=1.5 in /home/christina/anaconda3/lib/python3.11/site-packages (from python-dateutil>=2.8.2->pandas) (1.16.0)\n"
     ]
    }
   ],
   "source": [
    "!pip install pandas\n",
    "# installation von packages"
   ]
  },
  {
   "cell_type": "code",
   "execution_count": null,
   "id": "324ef719",
   "metadata": {},
   "outputs": [],
   "source": []
  }
 ],
 "metadata": {
  "kernelspec": {
   "display_name": "Python 3 (ipykernel)",
   "language": "python",
   "name": "python3"
  },
  "language_info": {
   "codemirror_mode": {
    "name": "ipython",
    "version": 3
   },
   "file_extension": ".py",
   "mimetype": "text/x-python",
   "name": "python",
   "nbconvert_exporter": "python",
   "pygments_lexer": "ipython3",
   "version": "3.11.5"
  }
 },
 "nbformat": 4,
 "nbformat_minor": 5
}
