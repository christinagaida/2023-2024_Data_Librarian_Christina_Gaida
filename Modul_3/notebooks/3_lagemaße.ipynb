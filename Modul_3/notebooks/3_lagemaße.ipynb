{
 "cells": [
  {
   "cell_type": "markdown",
   "id": "c61cef98-3785-4548-9e05-6111cc2c9b2b",
   "metadata": {},
   "source": [
    "# Lagemasse"
   ]
  },
  {
   "cell_type": "code",
   "execution_count": 1,
   "id": "5d95b8b1-89b4-4dfb-9ede-4fd36037ff07",
   "metadata": {},
   "outputs": [
    {
     "name": "stderr",
     "output_type": "stream",
     "text": [
      "/tmp/ipykernel_3182/204745613.py:2: DtypeWarning: Columns (13) have mixed types. Specify dtype option on import or set low_memory=False.\n",
      "  df = pd.read_csv(\"../data/Library_Usage.csv\")\n"
     ]
    },
    {
     "data": {
      "text/plain": [
       "160.29484287973597"
      ]
     },
     "execution_count": 1,
     "metadata": {},
     "output_type": "execute_result"
    }
   ],
   "source": [
    "import pandas as pd\n",
    "df = pd.read_csv(\"../data/Library_Usage.csv\")\n",
    "df['Total Checkouts'].mean()"
   ]
  },
  {
   "cell_type": "code",
   "execution_count": 2,
   "id": "e7cefd75-6042-4381-a681-fd602b1f0f39",
   "metadata": {},
   "outputs": [
    {
     "data": {
      "text/plain": [
       "7.0"
      ]
     },
     "execution_count": 2,
     "metadata": {},
     "output_type": "execute_result"
    }
   ],
   "source": [
    "df['Total Checkouts'].median()"
   ]
  },
  {
   "cell_type": "markdown",
   "id": "bbc9660e-3df5-4681-bf67-1adf2c732da8",
   "metadata": {},
   "source": [
    "## 3.2 Mittelwert und Median"
   ]
  },
  {
   "cell_type": "markdown",
   "id": "0843ceff-befc-4450-83f3-fa47574181df",
   "metadata": {},
   "source": [
    "- Schau Dir den Mittelwert und den Median der Variable Total Checkouts an. Warum sind die beiden Werte so unterschiedlich?\n",
    "- Was ziehst Du daraus für Schlüsse für weitere statistische Analysen und Reports?"
   ]
  },
  {
   "cell_type": "markdown",
   "id": "5c7f7302-1f29-4bcc-aa16-58f4de9a78ab",
   "metadata": {},
   "source": [
    "Beide Werte sind so unterschiedlich weil der Mittelwert (mean) den Durchschnitt bildet und der Median genau den Wert angibt, der in der Mitte liegt. \n",
    "\n",
    "Die Daten den Median müssen sich natürlich ordnen lassen, wenn dies nicht gegeben ist, kann dieser Wert nicht berechtnet werden. Der Mittelwert kann nur errechnet werden, wenn Zahlen vorgegeben ist. "
   ]
  },
  {
   "cell_type": "code",
   "execution_count": 3,
   "id": "4ffe4434-adc8-42f6-bad3-67e7c0b669fa",
   "metadata": {},
   "outputs": [
    {
     "data": {
      "text/plain": [
       "0.25     0.0\n",
       "0.50     7.0\n",
       "0.75    78.0\n",
       "Name: Total Checkouts, dtype: float64"
      ]
     },
     "execution_count": 3,
     "metadata": {},
     "output_type": "execute_result"
    }
   ],
   "source": [
    "df['Total Checkouts'].quantile(q=[0.25, 0.5, 0.75])"
   ]
  },
  {
   "cell_type": "code",
   "execution_count": 4,
   "id": "8989d055-02cc-4957-ae76-0fccefcafd59",
   "metadata": {},
   "outputs": [
    {
     "data": {
      "text/plain": [
       "0.005       0.000\n",
       "0.995    3321.555\n",
       "Name: Total Checkouts, dtype: float64"
      ]
     },
     "execution_count": 4,
     "metadata": {},
     "output_type": "execute_result"
    }
   ],
   "source": [
    "# identifies 0.5% of the data at both ends of the distribution\n",
    "alpha = 0.005\n",
    "df['Total Checkouts'].quantile([alpha, 1-alpha])"
   ]
  },
  {
   "cell_type": "markdown",
   "id": "5cd9a300-c35d-4ec8-bbf2-f11dd73fffd9",
   "metadata": {},
   "source": [
    "## 3.3 Exkurs: Ausreißerentfernung I"
   ]
  },
  {
   "cell_type": "markdown",
   "id": "58a9af03-7c95-42e2-ac17-c0d8f5f4b245",
   "metadata": {},
   "source": [
    "- Identifziere jeweils die 1.5% größten Werte in der Spalte Total Checkouts. Definiere diese Werte als Ausreißer.\n",
    "- Erstelle einen Datensatz, für den diese Ausreißer entfernt sind.\n",
    "- Handelt es sich hierbei um eine gute Methode, Ausreißer zu identifizieren und zu behandeln? Welche anderen Strategien kennst Du?"
   ]
  },
  {
   "cell_type": "code",
   "execution_count": 5,
   "id": "e7a3371e-702e-4614-aa7e-9a2a401b6b82",
   "metadata": {},
   "outputs": [
    {
     "data": {
      "text/plain": [
       "0.015       0.0\n",
       "0.985    1965.0\n",
       "Name: Total Checkouts, dtype: float64"
      ]
     },
     "execution_count": 5,
     "metadata": {},
     "output_type": "execute_result"
    }
   ],
   "source": [
    "alpha = 0.015\n",
    "df['Total Checkouts'].quantile([alpha, 1-alpha])"
   ]
  },
  {
   "cell_type": "code",
   "execution_count": 6,
   "id": "a308dabd-38ee-4915-82e2-7fea62e31bfc",
   "metadata": {},
   "outputs": [],
   "source": [
    "# bei Punkt 2 unkl. 3 bin ich mir nicht sicher und warte auf die Musterlösungen"
   ]
  },
  {
   "cell_type": "markdown",
   "id": "37a8b7f3-6947-444f-8560-b4e6034cc7df",
   "metadata": {},
   "source": [
    "# Streuungsmaße"
   ]
  },
  {
   "cell_type": "code",
   "execution_count": 9,
   "id": "840f2a2c-ca7f-4fef-a2f3-61bda370d704",
   "metadata": {},
   "outputs": [
    {
     "data": {
      "text/plain": [
       "289361.88526816876"
      ]
     },
     "execution_count": 9,
     "metadata": {},
     "output_type": "execute_result"
    }
   ],
   "source": [
    "df['Total Checkouts'].var() # Varianz"
   ]
  },
  {
   "cell_type": "code",
   "execution_count": 10,
   "id": "97d56ae9-20aa-4604-8104-77e344c982b0",
   "metadata": {},
   "outputs": [
    {
     "data": {
      "text/plain": [
       "537.9236797801049"
      ]
     },
     "execution_count": 10,
     "metadata": {},
     "output_type": "execute_result"
    }
   ],
   "source": [
    "df['Total Checkouts'].std() # Standardabweichung"
   ]
  },
  {
   "cell_type": "markdown",
   "id": "47d1026c-6869-4acf-b652-2a6afa3edd0d",
   "metadata": {},
   "source": [
    "## 3.4 Varianz"
   ]
  },
  {
   "cell_type": "markdown",
   "id": "4dfd5a1d-aaa8-4aa0-90f9-67de3fd961b6",
   "metadata": {},
   "source": [
    "Welche Variable streut mehr: 'Total Checkouts' oder 'Total Renewals'? Vergleiche die Standardabweichungen und den Variationskoeffizienten miteinander."
   ]
  },
  {
   "cell_type": "code",
   "execution_count": 11,
   "id": "16038919-e06b-4c01-8488-79b793148a0d",
   "metadata": {},
   "outputs": [
    {
     "data": {
      "text/plain": [
       "304.5064493499796"
      ]
     },
     "execution_count": 11,
     "metadata": {},
     "output_type": "execute_result"
    }
   ],
   "source": [
    "df['Total Renewals'].std()"
   ]
  },
  {
   "cell_type": "markdown",
   "id": "b6fd9119-fe8f-488a-a992-6bdb3dc69727",
   "metadata": {},
   "source": [
    "Die Variable \"Total Checkouts\" streut mehr. Der Ergebniswert ist größer und unterscheidt sich somit mehr vom Mittelwert."
   ]
  },
  {
   "cell_type": "code",
   "execution_count": 13,
   "id": "1ed59944-2cb7-4873-a5fb-7091918b720b",
   "metadata": {},
   "outputs": [
    {
     "data": {
      "text/plain": [
       "45380"
      ]
     },
     "execution_count": 13,
     "metadata": {},
     "output_type": "execute_result"
    }
   ],
   "source": [
    "# Spannweite\n",
    "df['Total Checkouts'].max() - df['Total Checkouts'].min()"
   ]
  },
  {
   "cell_type": "code",
   "execution_count": 14,
   "id": "4b8d90a9-f411-42d3-8733-d21b03f85922",
   "metadata": {},
   "outputs": [
    {
     "data": {
      "text/plain": [
       "78.0"
      ]
     },
     "execution_count": 14,
     "metadata": {},
     "output_type": "execute_result"
    }
   ],
   "source": [
    "df['Total Checkouts'].quantile(q=0.75) - df['Total Checkouts'].quantile(q=0.25) # Interquartilsabstand"
   ]
  },
  {
   "cell_type": "markdown",
   "id": "f2217cdf-e137-443f-8100-6d5ed9b4a3d8",
   "metadata": {},
   "source": [
    "## 3.5 Exkurs: Ausreißerentfernung II"
   ]
  },
  {
   "cell_type": "markdown",
   "id": "c0910993-a78a-4f8b-a5a2-612602dafb87",
   "metadata": {},
   "source": [
    "- Identifiziere positive Ausreißer in der Spalte Total Checkouts. Ausreißer werden jetzt als Beobachtungen xi definiert, für die gilt:\n",
    "\n",
    "xi>x0.75+1.5xIQR\n",
    "\n",
    "Das heißt, eine Beobachtungen gilt als Ausreißer, wenn sie größer als die Summe aus dem 75% Quantil und dem 1.5-fachen des Interquartilsabstands ist.\n",
    "\n",
    "- Wie viel Prozent der Beobachtungen im Datensatz werden mit dieser Methode als Ausreißer markiert?"
   ]
  },
  {
   "cell_type": "code",
   "execution_count": 16,
   "id": "188edb68-ce13-4cff-b226-1682097b7c42",
   "metadata": {},
   "outputs": [
    {
     "data": {
      "text/plain": [
       "(1.0, 390.0)"
      ]
     },
     "execution_count": 16,
     "metadata": {},
     "output_type": "execute_result"
    }
   ],
   "source": [
    "df['Total Checkouts'].quantile(q=0.25) + 1,5 * (df['Total Checkouts'].quantile(q=0.75) - df['Total Checkouts'].quantile(q=0.25))"
   ]
  },
  {
   "cell_type": "markdown",
   "id": "6d8e403d-7adc-40aa-b575-2b94bbc78958",
   "metadata": {},
   "source": [
    "Bei der Frage warte ich auf die Musterlösung :)"
   ]
  },
  {
   "cell_type": "code",
   "execution_count": null,
   "id": "e0bcb066-8f2b-40cb-be8a-fead9b6726ab",
   "metadata": {},
   "outputs": [],
   "source": []
  }
 ],
 "metadata": {
  "kernelspec": {
   "display_name": "Python 3 (ipykernel)",
   "language": "python",
   "name": "python3"
  },
  "language_info": {
   "codemirror_mode": {
    "name": "ipython",
    "version": 3
   },
   "file_extension": ".py",
   "mimetype": "text/x-python",
   "name": "python",
   "nbconvert_exporter": "python",
   "pygments_lexer": "ipython3",
   "version": "3.8.18"
  }
 },
 "nbformat": 4,
 "nbformat_minor": 5
}
