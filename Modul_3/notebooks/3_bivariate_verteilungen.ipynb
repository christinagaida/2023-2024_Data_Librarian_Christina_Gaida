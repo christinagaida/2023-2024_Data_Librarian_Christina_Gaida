{
 "cells": [
  {
   "cell_type": "markdown",
   "id": "0e7ff503-4677-4c22-bab6-43ea9b46ba76",
   "metadata": {},
   "source": [
    "# Kreuztabellen"
   ]
  },
  {
   "cell_type": "code",
   "execution_count": 1,
   "id": "4bca658c-dead-43ec-b9e9-21f6c24f544c",
   "metadata": {},
   "outputs": [
    {
     "name": "stderr",
     "output_type": "stream",
     "text": [
      "/tmp/ipykernel_7631/1205254785.py:3: DtypeWarning: Columns (13) have mixed types. Specify dtype option on import or set low_memory=False.\n",
      "  df = pd.read_csv(\n"
     ]
    },
    {
     "data": {
      "text/html": [
       "<div>\n",
       "<style scoped>\n",
       "    .dataframe tbody tr th:only-of-type {\n",
       "        vertical-align: middle;\n",
       "    }\n",
       "\n",
       "    .dataframe tbody tr th {\n",
       "        vertical-align: top;\n",
       "    }\n",
       "\n",
       "    .dataframe thead th {\n",
       "        text-align: right;\n",
       "    }\n",
       "</style>\n",
       "<table border=\"1\" class=\"dataframe\">\n",
       "  <thead>\n",
       "    <tr style=\"text-align: right;\">\n",
       "      <th>Notice Preference Definition</th>\n",
       "      <th>Email</th>\n",
       "      <th>All</th>\n",
       "    </tr>\n",
       "    <tr>\n",
       "      <th>Provided Email Address</th>\n",
       "      <th></th>\n",
       "      <th></th>\n",
       "    </tr>\n",
       "  </thead>\n",
       "  <tbody>\n",
       "    <tr>\n",
       "      <th>True</th>\n",
       "      <td>393301</td>\n",
       "      <td>393301</td>\n",
       "    </tr>\n",
       "    <tr>\n",
       "      <th>All</th>\n",
       "      <td>393301</td>\n",
       "      <td>393301</td>\n",
       "    </tr>\n",
       "  </tbody>\n",
       "</table>\n",
       "</div>"
      ],
      "text/plain": [
       "Notice Preference Definition   Email     All\n",
       "Provided Email Address                      \n",
       "True                          393301  393301\n",
       "All                           393301  393301"
      ]
     },
     "execution_count": 1,
     "metadata": {},
     "output_type": "execute_result"
    }
   ],
   "source": [
    "import pandas as pd\n",
    "\n",
    "df = pd.read_csv(\n",
    "    \"../data/Library_Usage.csv\", \n",
    "    na_values=\"none\"\n",
    ")\n",
    "pd.crosstab(\n",
    "    df['Provided Email Address'],\n",
    "    df['Notice Preference Definition'],\n",
    "    margins=True\n",
    ")"
   ]
  },
  {
   "cell_type": "code",
   "execution_count": 2,
   "id": "92c53ccf-0af8-407e-8322-58820123c9ce",
   "metadata": {},
   "outputs": [
    {
     "data": {
      "text/html": [
       "<div>\n",
       "<style scoped>\n",
       "    .dataframe tbody tr th:only-of-type {\n",
       "        vertical-align: middle;\n",
       "    }\n",
       "\n",
       "    .dataframe tbody tr th {\n",
       "        vertical-align: top;\n",
       "    }\n",
       "\n",
       "    .dataframe thead th {\n",
       "        text-align: right;\n",
       "    }\n",
       "</style>\n",
       "<table border=\"1\" class=\"dataframe\">\n",
       "  <thead>\n",
       "    <tr style=\"text-align: right;\">\n",
       "      <th>Notice Preference Definition</th>\n",
       "      <th>Email</th>\n",
       "      <th>All</th>\n",
       "    </tr>\n",
       "    <tr>\n",
       "      <th>Provided Email Address</th>\n",
       "      <th></th>\n",
       "      <th></th>\n",
       "    </tr>\n",
       "  </thead>\n",
       "  <tbody>\n",
       "    <tr>\n",
       "      <th>True</th>\n",
       "      <td>1.0</td>\n",
       "      <td>1.0</td>\n",
       "    </tr>\n",
       "  </tbody>\n",
       "</table>\n",
       "</div>"
      ],
      "text/plain": [
       "Notice Preference Definition  Email  All\n",
       "Provided Email Address                  \n",
       "True                            1.0  1.0"
      ]
     },
     "execution_count": 2,
     "metadata": {},
     "output_type": "execute_result"
    }
   ],
   "source": [
    "pd.crosstab(\n",
    "    df['Provided Email Address'],\n",
    "    df['Notice Preference Definition'],\n",
    "    margins=True, normalize=1\n",
    ")"
   ]
  },
  {
   "cell_type": "markdown",
   "id": "f9c6f3c7-e700-4f9f-bc47-c493d5936a62",
   "metadata": {},
   "source": [
    "# Korrelation"
   ]
  },
  {
   "cell_type": "code",
   "execution_count": 3,
   "id": "fa342be5-57a8-4167-8d1f-65383c18edf4",
   "metadata": {},
   "outputs": [
    {
     "data": {
      "text/plain": [
       "0.6368680323387791"
      ]
     },
     "execution_count": 3,
     "metadata": {},
     "output_type": "execute_result"
    }
   ],
   "source": [
    "df['Total Checkouts'].corr(df['Total Renewals'])"
   ]
  },
  {
   "cell_type": "markdown",
   "id": "a7fc4e48-7b28-454f-8134-14e7d394f68c",
   "metadata": {},
   "source": [
    "## 3.8 Exkurs: Anscombe-Quartett"
   ]
  },
  {
   "cell_type": "markdown",
   "id": "ad793991-8058-447f-8c60-1b0148e009d5",
   "metadata": {},
   "source": [
    "- Lies den Datensatz ein.\n",
    "- Berechne den Mittelwert, Median und die Standardabweichung der Spalten.\n",
    "- Berechne jeweils die Korrelation zweier zusammenhängender Spalten [x<i>, y<i>].\n",
    "- Erstelle jeweils ein Streudiagram zweier zusammenhängender Spalten [x<i>, y<i>].\n",
    "- Was fällt Dir auf? Informiere Dich über den Datensatz hier."
   ]
  },
  {
   "cell_type": "code",
   "execution_count": 4,
   "id": "cffaa8a2-a07d-4b32-be1c-9658292b4643",
   "metadata": {},
   "outputs": [],
   "source": [
    "ac = pd.read_csv(\n",
    "    \"../data/anscombe.csv\")"
   ]
  },
  {
   "cell_type": "code",
   "execution_count": 5,
   "id": "b987affb-93dd-4b9d-b4b9-4eb6d33f8850",
   "metadata": {},
   "outputs": [
    {
     "data": {
      "text/html": [
       "<div>\n",
       "<style scoped>\n",
       "    .dataframe tbody tr th:only-of-type {\n",
       "        vertical-align: middle;\n",
       "    }\n",
       "\n",
       "    .dataframe tbody tr th {\n",
       "        vertical-align: top;\n",
       "    }\n",
       "\n",
       "    .dataframe thead th {\n",
       "        text-align: right;\n",
       "    }\n",
       "</style>\n",
       "<table border=\"1\" class=\"dataframe\">\n",
       "  <thead>\n",
       "    <tr style=\"text-align: right;\">\n",
       "      <th></th>\n",
       "      <th>x1</th>\n",
       "      <th>y1</th>\n",
       "      <th>x2</th>\n",
       "      <th>y2</th>\n",
       "      <th>x3</th>\n",
       "      <th>y3</th>\n",
       "      <th>x4</th>\n",
       "      <th>y4</th>\n",
       "    </tr>\n",
       "  </thead>\n",
       "  <tbody>\n",
       "    <tr>\n",
       "      <th>0</th>\n",
       "      <td>10</td>\n",
       "      <td>8.04</td>\n",
       "      <td>10</td>\n",
       "      <td>9.14</td>\n",
       "      <td>10</td>\n",
       "      <td>7.46</td>\n",
       "      <td>8</td>\n",
       "      <td>6.58</td>\n",
       "    </tr>\n",
       "    <tr>\n",
       "      <th>1</th>\n",
       "      <td>8</td>\n",
       "      <td>6.95</td>\n",
       "      <td>8</td>\n",
       "      <td>8.14</td>\n",
       "      <td>8</td>\n",
       "      <td>6.77</td>\n",
       "      <td>8</td>\n",
       "      <td>5.76</td>\n",
       "    </tr>\n",
       "    <tr>\n",
       "      <th>2</th>\n",
       "      <td>13</td>\n",
       "      <td>7.58</td>\n",
       "      <td>13</td>\n",
       "      <td>8.74</td>\n",
       "      <td>13</td>\n",
       "      <td>12.74</td>\n",
       "      <td>8</td>\n",
       "      <td>7.71</td>\n",
       "    </tr>\n",
       "    <tr>\n",
       "      <th>3</th>\n",
       "      <td>9</td>\n",
       "      <td>8.81</td>\n",
       "      <td>9</td>\n",
       "      <td>8.77</td>\n",
       "      <td>9</td>\n",
       "      <td>7.11</td>\n",
       "      <td>8</td>\n",
       "      <td>8.84</td>\n",
       "    </tr>\n",
       "    <tr>\n",
       "      <th>4</th>\n",
       "      <td>11</td>\n",
       "      <td>8.33</td>\n",
       "      <td>11</td>\n",
       "      <td>9.26</td>\n",
       "      <td>11</td>\n",
       "      <td>7.81</td>\n",
       "      <td>8</td>\n",
       "      <td>8.47</td>\n",
       "    </tr>\n",
       "    <tr>\n",
       "      <th>5</th>\n",
       "      <td>14</td>\n",
       "      <td>9.96</td>\n",
       "      <td>14</td>\n",
       "      <td>8.10</td>\n",
       "      <td>14</td>\n",
       "      <td>8.84</td>\n",
       "      <td>8</td>\n",
       "      <td>7.04</td>\n",
       "    </tr>\n",
       "    <tr>\n",
       "      <th>6</th>\n",
       "      <td>6</td>\n",
       "      <td>7.24</td>\n",
       "      <td>6</td>\n",
       "      <td>6.13</td>\n",
       "      <td>6</td>\n",
       "      <td>6.08</td>\n",
       "      <td>8</td>\n",
       "      <td>5.25</td>\n",
       "    </tr>\n",
       "    <tr>\n",
       "      <th>7</th>\n",
       "      <td>4</td>\n",
       "      <td>4.26</td>\n",
       "      <td>4</td>\n",
       "      <td>3.10</td>\n",
       "      <td>4</td>\n",
       "      <td>5.39</td>\n",
       "      <td>19</td>\n",
       "      <td>12.50</td>\n",
       "    </tr>\n",
       "    <tr>\n",
       "      <th>8</th>\n",
       "      <td>12</td>\n",
       "      <td>10.84</td>\n",
       "      <td>12</td>\n",
       "      <td>9.13</td>\n",
       "      <td>12</td>\n",
       "      <td>8.15</td>\n",
       "      <td>8</td>\n",
       "      <td>5.56</td>\n",
       "    </tr>\n",
       "    <tr>\n",
       "      <th>9</th>\n",
       "      <td>7</td>\n",
       "      <td>4.82</td>\n",
       "      <td>7</td>\n",
       "      <td>7.26</td>\n",
       "      <td>7</td>\n",
       "      <td>6.42</td>\n",
       "      <td>8</td>\n",
       "      <td>7.91</td>\n",
       "    </tr>\n",
       "    <tr>\n",
       "      <th>10</th>\n",
       "      <td>5</td>\n",
       "      <td>5.68</td>\n",
       "      <td>5</td>\n",
       "      <td>4.74</td>\n",
       "      <td>5</td>\n",
       "      <td>5.73</td>\n",
       "      <td>8</td>\n",
       "      <td>6.89</td>\n",
       "    </tr>\n",
       "  </tbody>\n",
       "</table>\n",
       "</div>"
      ],
      "text/plain": [
       "    x1     y1  x2    y2  x3     y3  x4     y4\n",
       "0   10   8.04  10  9.14  10   7.46   8   6.58\n",
       "1    8   6.95   8  8.14   8   6.77   8   5.76\n",
       "2   13   7.58  13  8.74  13  12.74   8   7.71\n",
       "3    9   8.81   9  8.77   9   7.11   8   8.84\n",
       "4   11   8.33  11  9.26  11   7.81   8   8.47\n",
       "5   14   9.96  14  8.10  14   8.84   8   7.04\n",
       "6    6   7.24   6  6.13   6   6.08   8   5.25\n",
       "7    4   4.26   4  3.10   4   5.39  19  12.50\n",
       "8   12  10.84  12  9.13  12   8.15   8   5.56\n",
       "9    7   4.82   7  7.26   7   6.42   8   7.91\n",
       "10   5   5.68   5  4.74   5   5.73   8   6.89"
      ]
     },
     "execution_count": 5,
     "metadata": {},
     "output_type": "execute_result"
    }
   ],
   "source": [
    "ac"
   ]
  },
  {
   "cell_type": "code",
   "execution_count": 6,
   "id": "013a81f6-30b5-403d-81e8-9e1df6006dd5",
   "metadata": {},
   "outputs": [
    {
     "data": {
      "text/plain": [
       "9.0"
      ]
     },
     "execution_count": 6,
     "metadata": {},
     "output_type": "execute_result"
    }
   ],
   "source": [
    "ac['x1'].mean()"
   ]
  },
  {
   "cell_type": "code",
   "execution_count": 7,
   "id": "1977649c-52bf-44aa-8af1-6053401237c5",
   "metadata": {},
   "outputs": [
    {
     "data": {
      "text/plain": [
       "9.0"
      ]
     },
     "execution_count": 7,
     "metadata": {},
     "output_type": "execute_result"
    }
   ],
   "source": [
    "ac['x1'].median()"
   ]
  },
  {
   "cell_type": "code",
   "execution_count": 8,
   "id": "e6860f98-f3fe-4d4e-b77c-a7b6e3ac2f76",
   "metadata": {},
   "outputs": [
    {
     "data": {
      "text/plain": [
       "3.3166247903554"
      ]
     },
     "execution_count": 8,
     "metadata": {},
     "output_type": "execute_result"
    }
   ],
   "source": [
    "ac['x1'].std()"
   ]
  },
  {
   "cell_type": "code",
   "execution_count": 9,
   "id": "e0ad0b87-d71d-47c3-82be-9a047460ff64",
   "metadata": {},
   "outputs": [
    {
     "data": {
      "text/plain": [
       "7.500909090909093"
      ]
     },
     "execution_count": 9,
     "metadata": {},
     "output_type": "execute_result"
    }
   ],
   "source": [
    "ac['y1'].mean()"
   ]
  },
  {
   "cell_type": "code",
   "execution_count": 10,
   "id": "730d21a9-526e-437c-928a-993dde500fc7",
   "metadata": {},
   "outputs": [
    {
     "data": {
      "text/plain": [
       "7.58"
      ]
     },
     "execution_count": 10,
     "metadata": {},
     "output_type": "execute_result"
    }
   ],
   "source": [
    "ac['y1'].median()"
   ]
  },
  {
   "cell_type": "code",
   "execution_count": 11,
   "id": "27088ee6-1646-48bc-a7c7-0dc20ff5953c",
   "metadata": {},
   "outputs": [
    {
     "data": {
      "text/plain": [
       "2.031568135925815"
      ]
     },
     "execution_count": 11,
     "metadata": {},
     "output_type": "execute_result"
    }
   ],
   "source": [
    "ac['y1'].std()"
   ]
  },
  {
   "cell_type": "code",
   "execution_count": 12,
   "id": "718feba7-c8fe-4733-8d1b-8f483bee2b9a",
   "metadata": {},
   "outputs": [
    {
     "data": {
      "text/plain": [
       "9.0"
      ]
     },
     "execution_count": 12,
     "metadata": {},
     "output_type": "execute_result"
    }
   ],
   "source": [
    "ac['x2'].mean()"
   ]
  },
  {
   "cell_type": "code",
   "execution_count": 13,
   "id": "90663fc3-126d-4ba8-a15d-ce076044c2dc",
   "metadata": {},
   "outputs": [
    {
     "data": {
      "text/plain": [
       "9.0"
      ]
     },
     "execution_count": 13,
     "metadata": {},
     "output_type": "execute_result"
    }
   ],
   "source": [
    "ac['x2'].median()"
   ]
  },
  {
   "cell_type": "code",
   "execution_count": 14,
   "id": "37e062fe-b75d-4a36-9488-c83298cd73ad",
   "metadata": {},
   "outputs": [
    {
     "data": {
      "text/plain": [
       "3.3166247903554"
      ]
     },
     "execution_count": 14,
     "metadata": {},
     "output_type": "execute_result"
    }
   ],
   "source": [
    "ac['x2'].std()"
   ]
  },
  {
   "cell_type": "code",
   "execution_count": 15,
   "id": "5b3fc8db-b835-49ea-907c-1c0b6cce6a25",
   "metadata": {},
   "outputs": [
    {
     "data": {
      "text/plain": [
       "7.50090909090909"
      ]
     },
     "execution_count": 15,
     "metadata": {},
     "output_type": "execute_result"
    }
   ],
   "source": [
    "ac['y2'].mean()"
   ]
  },
  {
   "cell_type": "code",
   "execution_count": 16,
   "id": "b93020cd-a60b-4766-b7c9-0edfbd539785",
   "metadata": {},
   "outputs": [
    {
     "data": {
      "text/plain": [
       "8.14"
      ]
     },
     "execution_count": 16,
     "metadata": {},
     "output_type": "execute_result"
    }
   ],
   "source": [
    "ac['y2'].median()"
   ]
  },
  {
   "cell_type": "code",
   "execution_count": 17,
   "id": "da7a3cb2-c2c6-4248-b1cc-0e48a66a5588",
   "metadata": {},
   "outputs": [
    {
     "data": {
      "text/plain": [
       "2.0316567355016177"
      ]
     },
     "execution_count": 17,
     "metadata": {},
     "output_type": "execute_result"
    }
   ],
   "source": [
    "ac['y2'].std()"
   ]
  },
  {
   "cell_type": "code",
   "execution_count": 18,
   "id": "735ff7dc-2d8c-4f6c-812d-9d17ddc30c03",
   "metadata": {},
   "outputs": [
    {
     "data": {
      "text/plain": [
       "9.0"
      ]
     },
     "execution_count": 18,
     "metadata": {},
     "output_type": "execute_result"
    }
   ],
   "source": [
    "ac['x3'].mean()"
   ]
  },
  {
   "cell_type": "code",
   "execution_count": 19,
   "id": "0388803d-15fc-4f46-84ef-10c9fd398162",
   "metadata": {},
   "outputs": [
    {
     "data": {
      "text/plain": [
       "9.0"
      ]
     },
     "execution_count": 19,
     "metadata": {},
     "output_type": "execute_result"
    }
   ],
   "source": [
    "ac['x3'].median()"
   ]
  },
  {
   "cell_type": "code",
   "execution_count": 20,
   "id": "fff585ce-0e74-483d-b9dc-4c7403b9d685",
   "metadata": {},
   "outputs": [
    {
     "data": {
      "text/plain": [
       "3.3166247903554"
      ]
     },
     "execution_count": 20,
     "metadata": {},
     "output_type": "execute_result"
    }
   ],
   "source": [
    "ac['x3'].std()"
   ]
  },
  {
   "cell_type": "code",
   "execution_count": 21,
   "id": "3d5e9faf-457f-43a7-9c1a-e07a4dad3c64",
   "metadata": {},
   "outputs": [
    {
     "data": {
      "text/plain": [
       "7.5"
      ]
     },
     "execution_count": 21,
     "metadata": {},
     "output_type": "execute_result"
    }
   ],
   "source": [
    "ac['y3'].mean()"
   ]
  },
  {
   "cell_type": "code",
   "execution_count": 22,
   "id": "16f0fb33-04ef-4155-938f-36f706010255",
   "metadata": {},
   "outputs": [
    {
     "data": {
      "text/plain": [
       "7.11"
      ]
     },
     "execution_count": 22,
     "metadata": {},
     "output_type": "execute_result"
    }
   ],
   "source": [
    "ac['y3'].median()"
   ]
  },
  {
   "cell_type": "code",
   "execution_count": 23,
   "id": "2c3a5475-2e33-4e33-b6d4-b8b1cc77df29",
   "metadata": {},
   "outputs": [
    {
     "data": {
      "text/plain": [
       "2.030423601123667"
      ]
     },
     "execution_count": 23,
     "metadata": {},
     "output_type": "execute_result"
    }
   ],
   "source": [
    "ac['y3'].std()"
   ]
  },
  {
   "cell_type": "code",
   "execution_count": 24,
   "id": "8e0185cb-8742-4bca-a0ec-75d6ab6ce28a",
   "metadata": {},
   "outputs": [
    {
     "data": {
      "text/plain": [
       "9.0"
      ]
     },
     "execution_count": 24,
     "metadata": {},
     "output_type": "execute_result"
    }
   ],
   "source": [
    "ac['x4'].mean()"
   ]
  },
  {
   "cell_type": "code",
   "execution_count": 25,
   "id": "5141ccb8-ad02-438b-b6c1-0f59b72440e1",
   "metadata": {},
   "outputs": [
    {
     "data": {
      "text/plain": [
       "8.0"
      ]
     },
     "execution_count": 25,
     "metadata": {},
     "output_type": "execute_result"
    }
   ],
   "source": [
    "ac['x4'].median()"
   ]
  },
  {
   "cell_type": "code",
   "execution_count": 26,
   "id": "bd620509-5404-42b1-8010-78938835f937",
   "metadata": {},
   "outputs": [
    {
     "data": {
      "text/plain": [
       "3.3166247903554"
      ]
     },
     "execution_count": 26,
     "metadata": {},
     "output_type": "execute_result"
    }
   ],
   "source": [
    "ac['x4'].std()"
   ]
  },
  {
   "cell_type": "code",
   "execution_count": 27,
   "id": "737fed23-2be6-489c-ba76-faea5e306094",
   "metadata": {},
   "outputs": [
    {
     "data": {
      "text/plain": [
       "7.500909090909091"
      ]
     },
     "execution_count": 27,
     "metadata": {},
     "output_type": "execute_result"
    }
   ],
   "source": [
    "ac['y4'].mean()"
   ]
  },
  {
   "cell_type": "code",
   "execution_count": 28,
   "id": "5b973686-e1e8-47e7-83b3-5ebd99fc9ea5",
   "metadata": {},
   "outputs": [
    {
     "data": {
      "text/plain": [
       "7.04"
      ]
     },
     "execution_count": 28,
     "metadata": {},
     "output_type": "execute_result"
    }
   ],
   "source": [
    "ac['y4'].median()"
   ]
  },
  {
   "cell_type": "code",
   "execution_count": 29,
   "id": "1447730e-41f4-4ffd-aef5-e3ddeb905c94",
   "metadata": {},
   "outputs": [
    {
     "data": {
      "text/plain": [
       "2.0305785113876023"
      ]
     },
     "execution_count": 29,
     "metadata": {},
     "output_type": "execute_result"
    }
   ],
   "source": [
    "ac['y4'].std()"
   ]
  },
  {
   "cell_type": "markdown",
   "id": "277c795f-eb7d-44b4-a0ae-867e909cf182",
   "metadata": {},
   "source": [
    "### Korrelation errechnen"
   ]
  },
  {
   "cell_type": "code",
   "execution_count": 30,
   "id": "e48c0e2f-0ee2-4d0e-829a-b7c296bc87f7",
   "metadata": {},
   "outputs": [
    {
     "data": {
      "text/plain": [
       "0.81642051634484"
      ]
     },
     "execution_count": 30,
     "metadata": {},
     "output_type": "execute_result"
    }
   ],
   "source": [
    "ac['x1'].corr(ac['y1'])"
   ]
  },
  {
   "cell_type": "code",
   "execution_count": 34,
   "id": "9d5f9c08-57fe-46e9-aac8-3be3498efdc5",
   "metadata": {},
   "outputs": [
    {
     "data": {
      "text/plain": [
       "0.8162365060002428"
      ]
     },
     "execution_count": 34,
     "metadata": {},
     "output_type": "execute_result"
    }
   ],
   "source": [
    "ac['x2'].corr(ac['y2'])"
   ]
  },
  {
   "cell_type": "code",
   "execution_count": 35,
   "id": "37139add-0519-4453-a9a6-1e6ba4ada23e",
   "metadata": {},
   "outputs": [
    {
     "data": {
      "text/plain": [
       "0.8162867394895982"
      ]
     },
     "execution_count": 35,
     "metadata": {},
     "output_type": "execute_result"
    }
   ],
   "source": [
    "ac['x3'].corr(ac['y3'])"
   ]
  },
  {
   "cell_type": "code",
   "execution_count": 36,
   "id": "0d4746fb-a8ce-4bca-999c-5aa6f3c4466c",
   "metadata": {},
   "outputs": [
    {
     "data": {
      "text/plain": [
       "0.8165214368885031"
      ]
     },
     "execution_count": 36,
     "metadata": {},
     "output_type": "execute_result"
    }
   ],
   "source": [
    "ac['x4'].corr(ac['y4'])"
   ]
  },
  {
   "cell_type": "markdown",
   "id": "e6a87070-d1a7-4a43-a167-91d0410c3cbe",
   "metadata": {},
   "source": [
    "### Streudiagramm "
   ]
  },
  {
   "cell_type": "markdown",
   "id": "ba0194ff-c52d-48e1-9239-7242f679f537",
   "metadata": {},
   "source": [
    "Funktioniert nicht."
   ]
  },
  {
   "cell_type": "code",
   "execution_count": null,
   "id": "d26965b2-353d-4e61-8ad3-2ceadf417af3",
   "metadata": {},
   "outputs": [],
   "source": []
  }
 ],
 "metadata": {
  "kernelspec": {
   "display_name": "Python 3 (ipykernel)",
   "language": "python",
   "name": "python3"
  },
  "language_info": {
   "codemirror_mode": {
    "name": "ipython",
    "version": 3
   },
   "file_extension": ".py",
   "mimetype": "text/x-python",
   "name": "python",
   "nbconvert_exporter": "python",
   "pygments_lexer": "ipython3",
   "version": "3.8.18"
  }
 },
 "nbformat": 4,
 "nbformat_minor": 5
}
